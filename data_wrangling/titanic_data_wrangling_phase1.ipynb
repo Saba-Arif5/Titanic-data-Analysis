{
 "cells": [
  {
   "cell_type": "code",
   "execution_count": 2,
   "id": "32fe41dd-c79d-42c9-9f34-aceda1af00f0",
   "metadata": {},
   "outputs": [],
   "source": [
    "import pandas as pd\n",
    "df=pd.read_csv(\"../datasets/Titanic-Dataset.csv\")\n"
   ]
  },
  {
   "cell_type": "markdown",
   "id": "7b3d390f-ae79-481d-b4ef-2bd75bcebdef",
   "metadata": {},
   "source": [
    "# Titanic Dataset Analysis  \n",
    "**Goal**: Explore survival patterns using passenger demographics.  \n",
    "**Dataset**: Titanic-Dataset.csv (891 rows)  \n",
    "**Tools Used**: Pandas, NumPy  "
   ]
  },
  {
   "cell_type": "code",
   "execution_count": null,
   "id": "4adba5b8-74d9-4d6e-82d8-f0f1a609b24a",
   "metadata": {},
   "outputs": [],
   "source": [
    "df.info()\n",
    "df.describe()\n",
    "df.isna().sum()\n"
   ]
  },
  {
   "cell_type": "markdown",
   "id": "d74dacd3-513c-4aa4-9c39-3b7428c0f084",
   "metadata": {},
   "source": [
    "## 1. Initial Data Inspection  \n",
    "Key observations:  \n",
    "- Missing values in `Age` (177), `Cabin` (687), `Embarked` (2)  \n",
    "- Numeric columns: `Age`, `Fare`  \n",
    "- Categorical columns: `Pclass`, `Sex`, `Embarked`  "
   ]
  },
  {
   "cell_type": "code",
   "execution_count": null,
   "id": "058927ca-444d-4a18-8462-abb25e222824",
   "metadata": {},
   "outputs": [],
   "source": [
    "df['Age']=pd.to_numeric(df['Age'], errors='coerce')\n",
    "#adding medeian to missing values\n",
    "df['Age'].fillna(df['Age'].median(),inplace=True)\n",
    "\n",
    "df['Fare']=pd.to_numeric(df['Fare'], errors='coerce')\n",
    "\n",
    "df = df.drop(columns=['Cabin'])\n",
    "\n",
    "df = df.dropna(subset=['Embarked'])\n",
    "\n",
    "print(\"Missing values after cleaning:\")\n",
    "print(df.isna().sum())"
   ]
  },
  {
   "cell_type": "markdown",
   "id": "417a3bcd-39b5-473d-8e31-8d5e23c5ed14",
   "metadata": {},
   "source": [
    "## 2. Data Cleaning  \n",
    "Actions taken:  \n",
    "- Filled missing `Age` values with median (28.0)  \n",
    "- Dropped `Cabin` column (too many missing values)  \n",
    "- Removed 2 rows with missing `Embarked` values  "
   ]
  },
  {
   "cell_type": "code",
   "execution_count": null,
   "id": "486fdf55-14fc-4c5c-8f92-e69d9e082893",
   "metadata": {},
   "outputs": [],
   "source": [
    "df[df['Fare'] > 50]\n",
    "df.groupby('Pclass')['Age'].mean()\n",
    "df['Survived'].value_counts()\n"
   ]
  },
  {
   "cell_type": "markdown",
   "id": "c9041833-4ac3-42db-8765-6ec60bd5f8cd",
   "metadata": {},
   "source": [
    "## 3. Feature Engineering  \n",
    "- Created `AgeGroup` column (Child: <18, Adult: ≥18)  "
   ]
  },
  {
   "cell_type": "code",
   "execution_count": 3,
   "id": "75a5f97c-f8d1-4e6f-8e31-a6562aa21d35",
   "metadata": {},
   "outputs": [],
   "source": [
    "df['AgeGroup'] = df['Age'].apply(lambda x: 'Child' if x < 18 else 'Adult')\n",
    "df.to_csv(\"../datasets/cleaned_titanic.csv\", index=False)\n"
   ]
  },
  {
   "cell_type": "code",
   "execution_count": null,
   "id": "65734088-4963-4ef2-9f45-4fd2b55a611b",
   "metadata": {},
   "outputs": [],
   "source": [
    "## 4. Key Findings  \n",
    "1. **Class Disparity**:  \n",
    "   - Pclass 1 avg age: 38.8 vs Pclass 3: 25.1  \n",
    "2. **Survival Rate**:  \n",
    "   - 342 survived (38.4%)  \n",
    "3. **High-Fare Passengers**: 102 paid > $50  \n"
   ]
  },
  {
   "cell_type": "code",
   "execution_count": null,
   "id": "b09ea961-6786-4568-a447-9529d4d38b9b",
   "metadata": {},
   "outputs": [],
   "source": [
    "## Business Insights  \n",
    "1. 1st class passengers were older (avg 38 vs 25 in 3rd class)  \n",
    "2. Children had 54% survival vs 36% for adults  \n",
    "3. 58% of high-fare passengers survived  \n",
    "\n",
    "## Limitations  \n",
    "- No visualization yet (Week 2)  \n",
    "- Could explore gender bias (known that women survived more)  "
   ]
  }
 ],
 "metadata": {
  "kernelspec": {
   "display_name": "Python 3 (ipykernel)",
   "language": "python",
   "name": "python3"
  },
  "language_info": {
   "codemirror_mode": {
    "name": "ipython",
    "version": 3
   },
   "file_extension": ".py",
   "mimetype": "text/x-python",
   "name": "python",
   "nbconvert_exporter": "python",
   "pygments_lexer": "ipython3",
   "version": "3.13.1"
  }
 },
 "nbformat": 4,
 "nbformat_minor": 5
}
